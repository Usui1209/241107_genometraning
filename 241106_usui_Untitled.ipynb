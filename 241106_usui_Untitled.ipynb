{
 "cells": [
  {
   "cell_type": "code",
   "execution_count": null,
   "id": "20849da9-4448-4fe7-a099-f0e5f54f04fa",
   "metadata": {},
   "outputs": [],
   "source": [
    "conda activate RNAseq"
   ]
  },
  {
   "cell_type": "markdown",
   "id": "8780a7dd-fa31-449c-867a-121f99ba16ee",
   "metadata": {},
   "source": [
    "# RNAseqという場を起動する"
   ]
  },
  {
   "cell_type": "code",
   "execution_count": null,
   "id": "fe3212a6-09f9-41b4-8950-deb7f1ef0e34",
   "metadata": {},
   "outputs": [],
   "source": [
    "mamba install -c bioconda fastp"
   ]
  },
  {
   "attachments": {},
   "cell_type": "markdown",
   "id": "d8a6fc9f-d5a6-4caf-9961-3970ef32da3b",
   "metadata": {},
   "source": [
    "# mamba install -c bioconda (コマンド名)：conda から必要なコマンドをダウンロードする"
   ]
  },
  {
   "cell_type": "code",
   "execution_count": null,
   "id": "bc09defb-b382-4790-855e-876ff0a51524",
   "metadata": {},
   "outputs": [],
   "source": [
    "fastp -i WT_R1_001.fastq.gz -I WT_R2_001.fastq.gz -3 -o  WT_Q1.fq.gz -O WT_Q2.fq.gz  -h report_WT.html -j report_WT.json -q 20 -t 1 -T 1 -l 20 -w 8 -f 1 -F 1 --adapter_sequence GAACTGAG --adapter_sequence_r2 CGCTCCAC"
   ]
  },
  {
   "cell_type": "markdown",
   "id": "471bdfa9-83aa-4fb3-a592-bfe313001cc3",
   "metadata": {},
   "source": [
    "# fastp -i サンプル名(adapter1使用ファイル).gz -I サンプル名(adapter2使用ファイル).fastq.gz -3 -o  クリア後サンプル名(adapter1使用ファイル).gz -O クリア後サンプル名(adapter2使用ファイル).fq.gz  -h report_(サンプル名).html -j report_(サンプル名).json -q 20 -t 1 -T 1 -l 20 -w 8 -f 1 -F 1 --adapter_sequence アダプター1配列 --adapter_sequence_r2 アダプター2配列：主なオプションの説明：\n",
    "-i WT_R1_001.fastq.gz: **入力ファイル（R1）**として、WT_R1_001.fastq.gz を指定します。R1 はペアエンドシーケンシングの前方リードを示します。\n",
    "-I WT_R2_001.fastq.gz: **入力ファイル（R2）**として、WT_R2_001.fastq.gz を指定します。R2 はペアエンドシーケンシングの後方リードを示します。\n",
    "-3: リードの3'末端をトリミングします。\n",
    "-o WT_Q1.fq.gz: **出力ファイル（R1）**として、トリミングされたR1の結果をWT_Q1.fq.gz に保存します。\n",
    "-O WT_Q2.fq.gz: **出力ファイル（R2）**として、トリミングされたR2の結果をWT_Q2.fq.gz に保存します。\n",
    "-h report_WT.html: HTML形式でレポートを生成し、report_WT.html というファイル名で保存します。\n",
    "-j report_WT.json: JSON形式でレポートを生成し、report_WT.json というファイル名で保存します。\n",
    "-q 20: クオリティスコアのカットオフとして、20以下のクオリティのリードを削除します。\n",
    "-t 1: スレッド数を1に設定して並列処理します。\n",
    "-T 1: トリミングの閾値を1に設定します。\n",
    "-l 20: リードの最小長さを20に設定します。トリミング後に20未満のリードは削除されます。\n",
    "-w 8: 最大のメモリ使用量（ワークスペース）を8GBに設定します。\n",
    "-f 1: ファイルの出力形式として、FASTQフォーマットを指定します。\n",
    "-F 1: FASTQ形式でのフォーマットチェックを有効にします。\n",
    "--adapter_sequence GAACTGAG: アダプター配列（リードの3'末端に結合している可能性がある配列）としてGAACTGAGを指定し、この配列をトリミングします。\n",
    "--adapter_sequence_r2 CGCTCCAC: R2のアダプター配列としてCGCTCCACを指定し、この配列をトリミングします。\n",
    "概要：\n",
    "このコマンドは、ペアエンドのシーケンシングデータ（WT_R1_001.fastq.gz と WT_R2_001.fastq.gz）に対して、以下の処理を行います：\n",
    "\n",
    "リードの3'末端のトリミング。\n",
    "アダプター配列の除去（R1, R2それぞれに指定）。\n",
    "クオリティスコアが20未満のリードを削除。\n",
    "長さが20未満のリードを削除。\n",
    "トリミング後の結果をWT_Q1.fq.gz（R1）およびWT_Q2.fq.gz（R2）に保存。\n",
    "HTMLとJSON形式で処理結果のレポートを生成。\n",
    "メモリ制限を8GB、並列処理を1スレッドで実行。\n",
    "このように、fastpを使ってシーケンシングデータをクリーンアップし、品質を高めるための前処理を行っています。"
   ]
  },
  {
   "cell_type": "code",
   "execution_count": null,
   "id": "ab5151a9-32de-46b2-97d5-e8a7caeee87e",
   "metadata": {},
   "outputs": [],
   "source": [
    "seqkit stats WT*_R*_001.fastq.gz WT*_Q*.fq.gz > WT_stats_output.csv "
   ]
  },
  {
   "cell_type": "markdown",
   "id": "35cadd13-0f4c-4944-9d0e-c8e72147788c",
   "metadata": {},
   "source": [
    "# seqkit stats サンプル名(fastap前).gz サンプル名(fastap後).gz > サンプル名.csv：各部分の説明：\n",
    "seqkit stats: seqkit の stats サブコマンドで、指定した FASTQ ファイルの統計情報を計算します。\n",
    "WT*_R*_001.fastq.gz WT*_Q*.fq.gz:\n",
    "WT*_R*_001.fastq.gz および WT*_Q*.fq.gz のパターンに一致するすべてのファイルが対象です。\n",
    "* はワイルドカード（任意の文字列を表す）なので、たとえば WT1_R1_001.fastq.gz や WT2_Q1.fq.gz など、パターンに一致するすべてのファイルが含まれます。\n",
    "> WT_stats_output.csv: seqkit stats の出力を WT_stats_output.csv というファイルに保存します。この CSV ファイルには、各ファイルの統計情報がまとまって出力されます。\n",
    "出力内容の概要：\n",
    "WT_stats_output.csv には、各ファイルに対して以下のような統計情報が含まれます：\n",
    "\n",
    "file: ファイル名\n",
    "format: ファイル形式（ここでは FASTQ）\n",
    "type: シーケンスの種類（DNA、RNA、またはタンパク質）\n",
    "num_seqs: シーケンス（リード）数\n",
    "sum_len: シーケンスの総長\n",
    "min_len: 最小シーケンス長\n",
    "avg_len: 平均シーケンス長\n",
    "max_len: 最大シーケンス長\n",
    "Q20(%): Q20スコアの割合（クオリティスコア20以上の割合）\n",
    "Q30(%): Q30スコアの割合（クオリティスコア30以上の割合）\n",
    "GC(%): GC含量の割合\n",
    "このコマンドの目的：\n",
    "複数の FASTQ ファイルについて、品質やシーケンス長の分布などを一括で確認できるため、データ品質の概要を把握したり、ファイル間の比較をするのに便利です。CSV 形式なので、Excel や Numbers で開いて視覚的に確認や分析ができます。"
   ]
  },
  {
   "cell_type": "code",
   "execution_count": null,
   "id": "ad964a24-9748-4260-be11-a8cfed267981",
   "metadata": {},
   "outputs": [],
   "source": [
    "bowtie2-build GCA_002142475.1.fna bowtie2_index"
   ]
  },
  {
   "cell_type": "markdown",
   "id": "da2aa01c-fd85-4a43-822c-097a60f530c5",
   "metadata": {},
   "source": [
    "# bowtie2-build ゲノムファイル名 bowtie2_index\n",
    "bowtie2-build: Bowtie 2 のインデックス構築プログラムを呼び出します。\n",
    "GCA_002142475.1.fna: 入力ファイル。これはリファレンスゲノムのFASTA形式のファイルです。GCA_002142475.1.fna はゲノム配列を含んでいることを示します。\n",
    "bowtie2_index: 出力ファイルのプレフィックス。このコマンドが実行されると、Bowtie 2 は複数のインデックスファイルを生成し、それらのファイル名の先頭に bowtie2_index という名前が付けられます。コマンドの役割\n",
    "このコマンドを実行することで、GCA_002142475.1.fna というリファレンスゲノムを使ってインデックスを作成し、bowtie2_index.* というファイル群が出力されます。これらのインデックスファイルは、後で Bowtie 2 を使ってリードをこのリファレンスにマッピングする際に使用されます。"
   ]
  },
  {
   "cell_type": "code",
   "execution_count": null,
   "id": "a54ba0aa-8e65-4868-a9c8-1528e244935a",
   "metadata": {},
   "outputs": [],
   "source": [
    "bowtie2 --sensitive -x bowite2_index –p 8 -1 R1.fq.gz -2 R2.fq.gz"
   ]
  },
  {
   "cell_type": "markdown",
   "id": "326ccbeb-3058-4cd6-b8be-82cde8ab4d26",
   "metadata": {},
   "source": [
    "# bowtie2 --sensitive -x bowite2_index –p 8 -1 クリア後ファイル.fq.gz -2 クリア後ファイル.fq.gz：bowtie2: Bowtie 2 のコマンドを呼び出します。\n",
    "--sensitive: マッピングの設定を「sensitive（センシティブ）」モードに設定します。このモードはデフォルトよりも感度が高く、より多くの正確なアライメントを行いますが、処理速度は少し遅くなります。\n",
    "-x bowtie2_index: 使用するリファレンスインデックスを指定します。これは bowtie2-build で作成したインデックスファイルのプレフィックス bowtie2_index です。\n",
    "-p 8: マルチスレッド処理を指定します。この例では、8スレッドを使用して並列処理を行い、処理速度を向上させます。\n",
    "-1 R1.fq.gz: ペアエンドリードの 1 つ目のファイルを指定します（前方リード）。この例では、圧縮された FASTQ ファイル R1.fq.gz です。\n",
    "-2 R2.fq.gz: ペアエンドリードの 2 つ目のファイルを指定します（後方リード）。この例では、圧縮された FASTQ ファイル R2.fq.gz です。\n",
    "コマンドの役割\n",
    "このコマンドは、bowtie2_index というインデックスを用いて、R1.fq.gz と R2.fq.gz に含まれるペアエンドリードをマッピングします。マッピング結果は標準出力に表示されるか、オプションで指定すれば SAM ファイルとして保存できます。"
   ]
  },
  {
   "cell_type": "code",
   "execution_count": null,
   "id": "84dbd237-92d7-4ef0-9884-a90af3bb4f81",
   "metadata": {},
   "outputs": [],
   "source": [
    "samtools index -@ 4 WT2.bam"
   ]
  },
  {
   "cell_type": "code",
   "execution_count": null,
   "id": "65331697-6584-491e-9ed5-6491b84028ea",
   "metadata": {},
   "outputs": [],
   "source": [
    "# samtools index -@ 4 bamファイル名：samtools: SAM/BAM/CRAM ファイルを操作するためのツール。\n",
    "index: SAMtools のサブコマンドで、BAM ファイルのインデックスを作成します。これにより、大きな BAM ファイルに対して効率的にアクセスできるようになります。\n",
    "-@ 4: 使用するスレッド数を指定します。この場合、4 スレッドを使用して並列処理を行い、インデックス作成の処理速度を向上させます。\n",
    "WT2.bam: インデックスを作成する対象の BAM ファイルです。このファイルは、すでにマッピングが行われたリード情報を含んでいるはずです。\n",
    "コマンドの役割\n",
    "samtools index は BAM ファイルにインデックスを作成して、後で効率的にアクセスするための .bai ファイル（WT2.bam.bai）を生成します。このインデックスは、次のような操作を行うときに役立ちます。\n",
    "\n",
    "特定のリファレンス領域を抽出する。\n",
    "視覚化ツールで BAM ファイルを効率的に読み込む。\n",
    "その他の解析ツールで高速アクセスを可能にする。"
   ]
  },
  {
   "cell_type": "code",
   "execution_count": null,
   "id": "6a32f274-40b7-486f-a670-baeef048503a",
   "metadata": {},
   "outputs": [],
   "source": [
    "samtools flagstats WT2.bam"
   ]
  },
  {
   "cell_type": "markdown",
   "id": "bff3492e-8dd5-4a45-8569-9f750441e41b",
   "metadata": {
    "jupyter": {
     "source_hidden": true
    }
   },
   "source": [
    "# samtools flagstats bamファイル名：samtools: SAM/BAM/CRAM ファイルを操作するためのツール。\n",
    "flagstats: SAMtools のサブコマンドで、BAM ファイル内のリードに関する統計情報を出力します。具体的には、マッピングの状態やリードの総数などの詳細を表示します。\n",
    "WT2.bam: 統計情報を取得したい対象の BAM ファイルです。\n",
    "コマンドの役割\n",
    "samtools flagstats を実行すると、指定された BAM ファイルの内容に基づいた統計情報が表示されます。出力される主な情報は以下のとおりです：\n",
    "\n",
    "総リード数\n",
    "マッピングされたリード数とその割合\n",
    "一意にマッピングされたリードの数\n",
    "マルチマッピング（複数の場所にマッピングされた）リードの数\n",
    "ちゃんとペアが形成されているペアエンドリードの数\n",
    "PCR 重複と見なされるリードの数"
   ]
  },
  {
   "cell_type": "code",
   "execution_count": null,
   "id": "1ad5cd1f-8a57-4983-92a1-00914abbfd43",
   "metadata": {},
   "outputs": [],
   "source": [
    "bowtie2 --sensitive -x bowite2_index –p 8 -1 R1.fq.gz -2 R2.fq.gz |samtools sort -@ 8 - >sample1.bam"
   ]
  },
  {
   "cell_type": "markdown",
   "id": "308ce794-365f-4dc0-83ae-bdf0e08e6cf4",
   "metadata": {},
   "source": [
    "# bowtie2 --sensitive -x bowite2_index –p 8 -1 R1.fq.gz -2 R2.fq.gz |samtools sort -@ 8 - >sample1.bam：このコマンドは、Bowtie 2 を使ってペアエンドリードをマッピングし、その出力を SAMtools でソートして BAM ファイルとして保存する一連のパイプ処理です。"
   ]
  },
  {
   "cell_type": "code",
   "execution_count": null,
   "id": "0cb78cff-549e-4fcb-8afc-2c2c459f24d1",
   "metadata": {},
   "outputs": [],
   "source": [
    "#!/bin/bash\n",
    "\n",
    "# adapters.txt の各行を読み込んで処理を行う\n",
    "cat adapters.txt | awk 'NR > 1 {print $1, $2, $3}' | while read sample adapter1 adapter2; do\n",
    "  echo \"Processing sample: $sample\"\n",
    "  fastp -i ${sample}_R1_001.fastq.gz -I ${sample}_R2_001.fastq.gz \\\n",
    "        -3 -o ${sample}_Q1.fq.gz -O ${sample}_Q2.fq.gz \\\n",
    "        -h report_${sample}.html -j report_${sample}.json \\\n",
    "        -q 20 -t 1 -T 1 -l 20 -w 8 -f 1 -F 1 \\\n",
    "        --adapter_sequence ${adapter1} --adapter_sequence_r2 ${adapter2}\n",
    "done\n"
   ]
  },
  {
   "cell_type": "code",
   "execution_count": null,
   "id": "43dddec8-c8ce-4661-9ab2-5c5a0dbecad3",
   "metadata": {},
   "outputs": [],
   "source": [
    "スクリプトの説明\n",
    "cat adapters.txt | awk 'NR > 1 {print $1, $2, $3}': adapters.txt の1行目を除いた各行について、サンプル名と2つのアダプター配列を抽出します。\n",
    "while read sample adapter1 adapter2; do ... done: 各行を読み取り、変数 sample、adapter1、adapter2 に格納して fastp を実行します。\n",
    "fastp のオプションは、説明に記載された内容に基づいていますが、必要に応じて調整できます。\n"
   ]
  },
  {
   "cell_type": "code",
   "execution_count": null,
   "id": "51c595c0-d780-455f-9de9-0799ac7dc5b4",
   "metadata": {},
   "outputs": [],
   "source": [
    "breseq -r Leptolyngbya_boryana_IAM101.gbk -o WT.gbk WT_Q1.fq.gz WT_Q2.fq.gz\n"
   ]
  },
  {
   "cell_type": "markdown",
   "id": "116650cd-f58c-4f28-b2c5-3e4be347fb94",
   "metadata": {
    "jupyter": {
     "source_hidden": true
    }
   },
   "source": []
  },
  {
   "cell_type": "code",
   "execution_count": null,
   "id": "410b7404-3940-4697-bf30-2c97e3e43f54",
   "metadata": {
    "jupyter": {
     "source_hidden": true
    }
   },
   "outputs": [],
   "source": [
    "igv -g GCA_002142475.1.fna WT.bam,WT2.bam"
   ]
  },
  {
   "cell_type": "markdown",
   "id": "a97d0449-c8ff-4717-bc2b-fc28c54e79bb",
   "metadata": {
    "jupyter": {
     "source_hidden": true
    }
   },
   "source": []
  },
  {
   "cell_type": "code",
   "execution_count": null,
   "id": "21b0c21a-45a5-421e-963b-590f225786bf",
   "metadata": {},
   "outputs": [],
   "source": [
    "gdtools COMPARE -o integrate.html -r Leptolyngbya_boryana_IAM101.gbk WT.gd dg237.gd BR10PR22.gd\n"
   ]
  }
 ],
 "metadata": {
  "kernelspec": {
   "display_name": "Python 3 (ipykernel)",
   "language": "python",
   "name": "python3"
  },
  "language_info": {
   "codemirror_mode": {
    "name": "ipython",
    "version": 3
   },
   "file_extension": ".py",
   "mimetype": "text/x-python",
   "name": "python",
   "nbconvert_exporter": "python",
   "pygments_lexer": "ipython3",
   "version": "3.12.7"
  }
 },
 "nbformat": 4,
 "nbformat_minor": 5
}
